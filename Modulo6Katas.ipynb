{
 "cells": [
  {
   "cell_type": "markdown",
   "metadata": {},
   "source": [
    "# Ejercicio1: Crear y usar listas de Python"
   ]
  },
  {
   "cell_type": "markdown",
   "metadata": {},
   "source": [
    "\n",
    "Ejercicio: Usar listas para almacenar nombres de planeta"
   ]
  },
  {
   "cell_type": "code",
   "execution_count": 11,
   "metadata": {},
   "outputs": [
    {
     "name": "stdout",
     "output_type": "stream",
     "text": [
      "['Mercury', 'Venus', 'Earth', 'Mars', 'Jupyter', 'Saturn', 'Uranus', 'Neptune']\n",
      "9\n",
      "Neptune\n"
     ]
    }
   ],
   "source": [
    "# Creamos la lista planets y la mostramos\n",
    "planets = ['Mercury','Venus','Earth','Mars','Jupyter','Saturn','Uranus','Neptune']\n",
    "print(planets)\n",
    "\n",
    "# Agregamos a plutón y mostramos el último elemento\n",
    "planets.append('Pluto')\n",
    "print(len(planets))\n",
    "print(planets[7])"
   ]
  },
  {
   "cell_type": "markdown",
   "metadata": {},
   "source": [
    "# Ejercicio 2: Trabajando con datos de una lista"
   ]
  },
  {
   "cell_type": "markdown",
   "metadata": {},
   "source": [
    "Usar slices para recuperar partes de una lista"
   ]
  },
  {
   "cell_type": "code",
   "execution_count": 10,
   "metadata": {},
   "outputs": [
    {
     "name": "stdout",
     "output_type": "stream",
     "text": [
      "4 es la posición del planeta en el sistema solar\n",
      "Estos son los planetas mas cercanos al sol antes del planeta seleccionado ['Mercury', 'Venus', 'Earth']\n",
      "Estos son los planetas mas lejanos al sol despues del planeta seleccionado ['Jupyter', 'Saturn', 'Uranus', 'Neptune']\n"
     ]
    }
   ],
   "source": [
    "# Lista de planetas\n",
    "planets = ['Mercury','Venus','Earth','Mars','Jupyter','Saturn','Uranus','Neptune']\n",
    "\n",
    "#Solicita al usuario el nombre de un planeta\n",
    "planet = input(\"Dame el nombre del planeta: \")\n",
    "\n",
    "#Encuentra el planeta en la lista\n",
    "planet_index = planets.index(planet)\n",
    "print(planet_index+1, \"es la posición del planeta en el sistema solar\")\n",
    "\n",
    "#Mostrar planetas más cercanos al sol que el que el usuario ingresó\n",
    "planets_before_planet_selected = planets[0:planet_index]\n",
    "print(\"Estos son los planetas mas cercanos al sol antes del planeta seleccionado\",planets_before_planet_selected)\n",
    "\n",
    "# Muestra los planetas más lejanos al sol\n",
    "planets_after_planet_selected = planets[planet_index+1:]\n",
    "print(\"Estos son los planetas mas lejanos al sol despues del planeta seleccionado\",planets_after_planet_selected)"
   ]
  }
 ],
 "metadata": {
  "interpreter": {
   "hash": "e13bf5cc51a3812d0b250ee51c0a39d996bd66c3c1d1e9f7429df6e6880f7810"
  },
  "kernelspec": {
   "display_name": "Python 3.10.2 64-bit",
   "language": "python",
   "name": "python3"
  },
  "language_info": {
   "codemirror_mode": {
    "name": "ipython",
    "version": 3
   },
   "file_extension": ".py",
   "mimetype": "text/x-python",
   "name": "python",
   "nbconvert_exporter": "python",
   "pygments_lexer": "ipython3",
   "version": "3.10.2"
  },
  "orig_nbformat": 4
 },
 "nbformat": 4,
 "nbformat_minor": 2
}
