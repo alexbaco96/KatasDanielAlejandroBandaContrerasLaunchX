{
 "cells": [
  {
   "cell_type": "markdown",
   "metadata": {},
   "source": [
    "# Ejercicio - Escribir declaraciones if, ele y elif"
   ]
  },
  {
   "cell_type": "code",
   "execution_count": 7,
   "metadata": {},
   "outputs": [
    {
     "name": "stdout",
     "output_type": "stream",
     "text": [
      "El asteroide se acerca a la tierra demasiado rapido\n"
     ]
    }
   ],
   "source": [
    "# Añadir el código necesario para crear una variable que guarde la velocidad del asteroide.\n",
    "velocity = 49\n",
    "# Escribe una expresión de prueba para calcular si necesita una advertencia.\n",
    "if velocity > 25:\n",
    "# Agregue las instrucciones que se ejecutarán si la expresión de prueba es true o false.\n",
    "    print(\"El asteroide se acerca a la tierra demasiado rapido\")\n",
    "else:\n",
    "# Agregue las instrucciones que se ejecutarán si la expresión de prueba es true o false.\n",
    "    print(\"Todo transcurre normal\")"
   ]
  },
  {
   "cell_type": "code",
   "execution_count": 9,
   "metadata": {},
   "outputs": [
    {
     "name": "stdout",
     "output_type": "stream",
     "text": [
      "Todo transcurre normal\n"
     ]
    }
   ],
   "source": [
    "# Agrega el código para crear una variable para un asteroide que viaja a 19 km/s\n",
    "velocity = 19\n",
    "# Escribe varias expresiones de prueba para determinar si puedes ver el rayo de luz desde la tierra\n",
    "if velocity > 20:\n",
    "# Agrega las instrucciones que se ejecutarán si las expresiones de prueba son True o False\n",
    "    print(\"A todas las personas del mundo, busquen un asteroide en el cielo\")\n",
    "elif velocity == 20:\n",
    "    print(\"A todas las personas del mundo, busquen un asteroide en el cielo\")\n",
    "else:\n",
    "# Agregue las instrucciones que se ejecutarán si la expresión de prueba es true o false.\n",
    "    print(\"Todo transcurre normal\")"
   ]
  },
  {
   "cell_type": "markdown",
   "metadata": {},
   "source": [
    "# Ejercicio: Uso de operadores and y or"
   ]
  },
  {
   "cell_type": "code",
   "execution_count": 13,
   "metadata": {},
   "outputs": [
    {
     "name": "stdout",
     "output_type": "stream",
     "text": [
      "A todas las personas del mundo, busquen un asteroide en el cielo\n"
     ]
    }
   ],
   "source": [
    "# Agrega el código para crear nuevas variables para la velocidad y el tamaño del asteroide\n",
    "velocity = input(\"Cual es la velocidad del asteroide?\")\n",
    "size = input(\"Cual es el tamaño del asteroide?\")\n",
    "# Para probar el código, prueba con varias velocidades y tamaños\n",
    "if int(velocity) > 25 and int(size) > 25:\n",
    "    print(\"El asteroide se acerca demasiado rapido a la tierra y puede ser mortal\")\n",
    "elif int(velocity) >= 20:\n",
    "    print(\"A todas las personas del mundo, busquen un asteroide en el cielo\")\n",
    "elif int(size) < 25:\n",
    "    print(\"Todo transcurre normal\")\n",
    "else:\n",
    "    print(\"Todo transcurre normal\")\n",
    "# Escribe varias expresiones de prueba o combinaciones de expresiones de prueba para determinar qué mensaje se debe enviar a Tierra."
   ]
  }
 ],
 "metadata": {
  "interpreter": {
   "hash": "e13bf5cc51a3812d0b250ee51c0a39d996bd66c3c1d1e9f7429df6e6880f7810"
  },
  "kernelspec": {
   "display_name": "Python 3.10.2 64-bit",
   "language": "python",
   "name": "python3"
  },
  "language_info": {
   "codemirror_mode": {
    "name": "ipython",
    "version": 3
   },
   "file_extension": ".py",
   "mimetype": "text/x-python",
   "name": "python",
   "nbconvert_exporter": "python",
   "pygments_lexer": "ipython3",
   "version": "3.10.2"
  },
  "orig_nbformat": 4
 },
 "nbformat": 4,
 "nbformat_minor": 2
}
