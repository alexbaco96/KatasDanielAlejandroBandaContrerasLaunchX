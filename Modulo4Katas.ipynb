{
 "cells": [
  {
   "cell_type": "markdown",
   "metadata": {},
   "source": [
    "# Ejercicio 1: Transformar cadenas"
   ]
  },
  {
   "cell_type": "code",
   "execution_count": 17,
   "metadata": {},
   "outputs": [
    {
     "name": "stdout",
     "output_type": "stream",
     "text": [
      "On average, the Moon moves 4cm away from the Earth every year\n",
      "The highest daylight temperature of the Moon is 127 C\n",
      "On average, the Moon moves 4cm away from the Earth every year\n",
      "The highest daylight temperature of the Moon is 127 Celsius\n"
     ]
    }
   ],
   "source": [
    "text = \"Interesting facts about the Moon. The Moon is Earth's only satellite. There are several interesting facts about the Moon and how it affects life here on Earth. On average, the Moon moves 4cm away from the Earth every year. This yearly drift is not significant enough to cause immediate effects on Earth. The highest daylight temperature of the Moon is 127 C. \"\n",
    "\n",
    "# Añade el código necesario\n",
    "oraciones = text.split('. ')\n",
    "# Define las palabras pista: average, temperature y distance suenan bien\n",
    "keywords = [\"average\",\"temperature\",\"distance\"]\n",
    "# Ciclo for para recorrer la cadena\n",
    "for n in oraciones:\n",
    "    for m in keywords:\n",
    "        oracion = n\n",
    "        exists = oracion.find(m)\n",
    "        if exists > 1 :\n",
    "            print(oracion)\n",
    "# Ciclo para cambiar C a Celsius\n",
    "for n in oraciones:\n",
    "    for m in keywords:\n",
    "        oracion = n\n",
    "        exists = oracion.find(m)\n",
    "        if exists > 1 :\n",
    "            print(oracion.replace(' C',' Celsius'))"
   ]
  },
  {
   "cell_type": "markdown",
   "metadata": {},
   "source": [
    "# Ejercicio 2: Formateando Cadenas"
   ]
  },
  {
   "cell_type": "code",
   "execution_count": 4,
   "metadata": {},
   "outputs": [
    {
     "name": "stdout",
     "output_type": "stream",
     "text": [
      "Gravity on Earth and the Moon \n",
      "----------------------------\n",
      "Planet Name: Earth\n",
      "Gravity on Moon: 1.6199999999999999 m/s2\n",
      "\n",
      "----------------------------\n",
      "Planet Name: Earth\n",
      "Gravity on Moon: 1.6199999999999999 m/s2\n",
      "\n",
      "Gravity on:\n",
      "'----------------------------'\n",
      "Planet Name: Mars\n",
      "Gravity on Ganímides: 0.00143 m/s2\n",
      "\n",
      "Gravity on:\n",
      "'----------------------------'\n",
      "Planet Name: Mars\n",
      "Gravity on Ganímides: 1.4300000000000002 m/s2\n"
     ]
    }
   ],
   "source": [
    "# Datos con los que vas a trabajar\n",
    "name = \"Moon\"\n",
    "gravity = 0.00162 # in kms\n",
    "planet = \"Earth\"\n",
    "\n",
    "# Creamos el título\n",
    "title = \"Gravity on \" + planet + \" and the \" + name\n",
    "#print(title)\n",
    "\n",
    "# Creamos la plantilla\n",
    "facts = f\"\"\"\\n{'----------------------------'}\n",
    "Planet Name: {planet}\n",
    "Gravity on {name}: {gravity*1000} m/s2\"\"\"\n",
    "\n",
    "# Unión de ambas cadenas\n",
    "print(f\"{title} {facts}\")\n",
    "\n",
    "# Nuevo datos muestra\n",
    "name = \"Ganímides\"\n",
    "gravity = 0.00143 # in kms\n",
    "planet = \"Mars\"\n",
    "\n",
    "# Comprueba la plantilla\n",
    "print(facts)\n",
    "\n",
    "# Nueva plantilla\n",
    "newtemplate = \"\"\"\\nGravity on:\\n'----------------------------'\n",
    "Planet Name: {planet}\n",
    "Gravity on {name}: {gravity} m/s2\"\"\"\n",
    "print(newtemplate.format(name=name, planet=planet, gravity=gravity))\n",
    "# Pista: print(nueva_plantilla.format(variables))\n",
    "print(newtemplate.format(name=name, planet=planet, gravity=gravity*1000))"
   ]
  }
 ],
 "metadata": {
  "interpreter": {
   "hash": "e13bf5cc51a3812d0b250ee51c0a39d996bd66c3c1d1e9f7429df6e6880f7810"
  },
  "kernelspec": {
   "display_name": "Python 3.10.2 64-bit",
   "language": "python",
   "name": "python3"
  },
  "language_info": {
   "codemirror_mode": {
    "name": "ipython",
    "version": 3
   },
   "file_extension": ".py",
   "mimetype": "text/x-python",
   "name": "python",
   "nbconvert_exporter": "python",
   "pygments_lexer": "ipython3",
   "version": "3.10.2"
  },
  "orig_nbformat": 4
 },
 "nbformat": 4,
 "nbformat_minor": 2
}
