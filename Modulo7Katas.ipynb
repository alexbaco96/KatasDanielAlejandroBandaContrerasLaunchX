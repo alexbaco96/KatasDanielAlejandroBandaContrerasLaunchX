{
 "cells": [
  {
   "cell_type": "markdown",
   "metadata": {},
   "source": [
    "# Ejercicio 1: Creación de un bucle \"while\""
   ]
  },
  {
   "cell_type": "code",
   "execution_count": 3,
   "metadata": {},
   "outputs": [],
   "source": [
    "# Declara dos variables\n",
    "# Creamos la variable que almacena el texto\n",
    "new_planet = ''\n",
    "# Creamos la lista que almacena cada uno de los textos que el usuario ingresa\n",
    "planets = []\n",
    "\n",
    "# Ciclo while\n",
    "while new_planet.lower() != 'done':\n",
    "    # Verificamos si hay un valor en user_input\n",
    "    if new_planet:\n",
    "        # Almacenamos ese valor en la lista\n",
    "        planets.append(new_planet)\n",
    "    # Capturamos un nuevo valor\n",
    "    new_planet = input('Enter a new planet, or done when done')"
   ]
  },
  {
   "cell_type": "markdown",
   "metadata": {},
   "source": [
    "# Ejercicio 2: Creación de un ciclo \"for\""
   ]
  },
  {
   "cell_type": "code",
   "execution_count": 5,
   "metadata": {},
   "outputs": [
    {
     "name": "stdout",
     "output_type": "stream",
     "text": [
      "Mercury\n",
      "Neptune\n",
      "Those are planets 🚀\n"
     ]
    }
   ],
   "source": [
    "for planet in planets:\n",
    "    print(planet)\n",
    "print(\"Those are planets 🚀\")"
   ]
  }
 ],
 "metadata": {
  "interpreter": {
   "hash": "e13bf5cc51a3812d0b250ee51c0a39d996bd66c3c1d1e9f7429df6e6880f7810"
  },
  "kernelspec": {
   "display_name": "Python 3.10.2 64-bit",
   "language": "python",
   "name": "python3"
  },
  "language_info": {
   "codemirror_mode": {
    "name": "ipython",
    "version": 3
   },
   "file_extension": ".py",
   "mimetype": "text/x-python",
   "name": "python",
   "nbconvert_exporter": "python",
   "pygments_lexer": "ipython3",
   "version": "3.10.2"
  },
  "orig_nbformat": 4
 },
 "nbformat": 4,
 "nbformat_minor": 2
}
