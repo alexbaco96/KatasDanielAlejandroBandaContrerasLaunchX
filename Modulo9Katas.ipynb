{
 "cells": [
  {
   "cell_type": "markdown",
   "metadata": {},
   "source": [
    "# Ejercicio: Uso de funciones en Python\n",
    "\n",
    "Ejercicio 1: Trabajar con argumentos en funciones"
   ]
  },
  {
   "cell_type": "code",
   "execution_count": 7,
   "metadata": {},
   "outputs": [
    {
     "name": "stdout",
     "output_type": "stream",
     "text": [
      " Informe del tanque:\n",
      "    Tanque princial: 4\n",
      "    Tanque secundario: 10\n",
      "    Tanque de reserva: 50\n",
      "    Promedio de los tanques: 21.333333333333332\n",
      "43.333333333333336\n",
      " Informe del tanque:\n",
      "    Tanque princial: 4\n",
      "    Tanque secundario: 10\n",
      "    Tanque de reserva: 50\n",
      "    Promedio de los tanques: 21.333333333333332\n"
     ]
    }
   ],
   "source": [
    "# Función para leer 3 tanques de combustible y muestre el promedio\n",
    "def tank_report(tanque_principal, tanque_secundario, tanque_reserva):\n",
    "    tanque_promedio = (tanque_principal+ tanque_secundario+ tanque_reserva)/3\n",
    "    return f\"\"\" Informe del tanque:\n",
    "    Tanque princial: {tanque_principal}\n",
    "    Tanque secundario: {tanque_secundario}\n",
    "    Tanque de reserva: {tanque_reserva}\n",
    "    Promedio de los tanques: {tanque_promedio}\"\"\"\n",
    "\n",
    "# Llamamos a la función que genera el reporte print(funcion(tanque1, tanque2, tanque3))\n",
    "print(tank_report(4,10,50))\n",
    "\n",
    "\n",
    "# Función promedio \n",
    "def promedio(values):\n",
    "    total = sum(values)\n",
    "    cantidad = len(values)\n",
    "    return total / cantidad\n",
    "\n",
    "print(promedio([30,30,70]))\n",
    "\n",
    "# Actualiza la función\n",
    "def tank_report(tanque_principal, tanque_secundario, tanque_reserva):\n",
    "    return f\"\"\" Informe del tanque:\n",
    "    Tanque princial: {tanque_principal}\n",
    "    Tanque secundario: {tanque_secundario}\n",
    "    Tanque de reserva: {tanque_reserva}\n",
    "    Promedio de los tanques: {promedio([tanque_principal, tanque_secundario, tanque_reserva])}\"\"\"\n",
    "\n",
    "print(tank_report(4,10,50))"
   ]
  },
  {
   "cell_type": "markdown",
   "metadata": {},
   "source": [
    "# Ejercicio 2: Trabajo con argumentos de palabra clave\n",
    "\n",
    "Ejercicio : Trabajar con argumentos de palabras clave en funciones"
   ]
  },
  {
   "cell_type": "code",
   "execution_count": 16,
   "metadata": {},
   "outputs": [
    {
     "name": "stdout",
     "output_type": "stream",
     "text": [
      "\n",
      "    Mision a Moon\n",
      "    Tiempo total de viaje: 72\n",
      "    Total de combustible: 2400000\n",
      "    \n",
      "\n",
      "    Mision a Moon\n",
      "    Tiempo total de viaje: 72\n",
      "    Total de combustible: 2400000\n",
      "    \n",
      "\n",
      "    Mision a Moon\n",
      "    Tiempo total de viaje: 72\n",
      "    Total de combustible: 2400000\n",
      "    main tank --> 2000000 de combustible\n",
      "external tank --> 400000 de combustible\n",
      "\n"
     ]
    }
   ],
   "source": [
    "# Función con un informe preciso de la misión. Considera hora de prelanzamiento, tiempo de vuelo, destino, tanque externo y tanque interno\n",
    "def informe_cohete(hora_pre_lanzamiento,tiempo_de_vuelo,destino,tanque_externo,tanque_interno):\n",
    "    return f\"\"\"\n",
    "    Mision a {destino}\n",
    "    Tiempo total de viaje: {hora_pre_lanzamiento + tiempo_de_vuelo}\n",
    "    Total de combustible: {tanque_externo + tanque_interno}\n",
    "    \"\"\"\n",
    "\n",
    "print(informe_cohete(12,60,'Moon',2000000,400000))\n",
    "\n",
    "# Escribe tu nueva función de reporte considerando lo anterior\n",
    "def informe_cohete(destino,*minutes,**fuel_reservoirs):\n",
    "    return f\"\"\"\n",
    "    Mision a {destino}\n",
    "    Tiempo total de viaje: {sum(minutes)}\n",
    "    Total de combustible: {sum(fuel_reservoirs.values())}\n",
    "    \"\"\"\n",
    "\n",
    "print(informe_cohete('Moon',12,20,40,main=2000000,external=400000))\n",
    "\n",
    "\n",
    "# Escribe tu nueva función\n",
    "def informe_cohete(destino,*minutes,**fuel_reservoirs):\n",
    "    reporte_principal =f\"\"\"\n",
    "    Mision a {destino}\n",
    "    Tiempo total de viaje: {sum(minutes)}\n",
    "    Total de combustible: {sum(fuel_reservoirs.values())}\n",
    "    \"\"\"\n",
    "    for tank_name, combustible in fuel_reservoirs.items():\n",
    "        reporte_principal += f\"{tank_name} tank --> {combustible} de combustible\\n\"\n",
    "    return reporte_principal\n",
    "\n",
    "print(informe_cohete('Moon',12,20,40,main=2000000,external=400000))"
   ]
  }
 ],
 "metadata": {
  "interpreter": {
   "hash": "e13bf5cc51a3812d0b250ee51c0a39d996bd66c3c1d1e9f7429df6e6880f7810"
  },
  "kernelspec": {
   "display_name": "Python 3.10.2 64-bit",
   "language": "python",
   "name": "python3"
  },
  "language_info": {
   "codemirror_mode": {
    "name": "ipython",
    "version": 3
   },
   "file_extension": ".py",
   "mimetype": "text/x-python",
   "name": "python",
   "nbconvert_exporter": "python",
   "pygments_lexer": "ipython3",
   "version": "3.10.2"
  },
  "orig_nbformat": 4
 },
 "nbformat": 4,
 "nbformat_minor": 2
}
